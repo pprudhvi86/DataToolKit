{
  "nbformat": 4,
  "nbformat_minor": 0,
  "metadata": {
    "colab": {
      "provenance": []
    },
    "kernelspec": {
      "name": "python3",
      "display_name": "Python 3"
    },
    "language_info": {
      "name": "python"
    }
  },
  "cells": [
    {
      "cell_type": "markdown",
      "source": [
        "Q1.What is NumPy, and why is it widely used in Python?\n",
        "\n",
        "Ans: It is a python library for numerical computing.\n",
        "* Provides the ndarray object- an efficient ,N-dimensional array for handling large datasets\n",
        "\n",
        "* It offers tools for :\n",
        "\n",
        "  - Linear algebra\n",
        "  - Fourier transforms\n",
        "  - Random number generation\n",
        "  - Statistical operations\n",
        "\n",
        "NumPy is widely used in python because of:\n",
        "* Performance\n",
        "* Memoory efficiency\n",
        "* Convenient Array Operations\n",
        "* Interoperability\n",
        "* Foundation for data Science and Machine learning\n",
        "\n",
        "\n",
        "\n"
      ],
      "metadata": {
        "id": "WWBjhKVGOz80"
      }
    },
    {
      "cell_type": "markdown",
      "source": [
        "Q2. How does broadcasting work in NumPy?\n",
        "\n",
        "Ans: Broadcasting in NumPy is a powerful mechanism that allows array operations between arrays of different shapes- without explicitly replicating data.\n",
        "The rules of broadcasting are\n",
        "* If the dimensions are equal,they are compatible.\n",
        "* If one of the dimensions is 1,it is streched to match the other.\n",
        "* If the dimensions are unequal and neither is 1,Its an error.\n",
        "* NumPy compares array shapes element-wise from right to left"
      ],
      "metadata": {
        "id": "sYuYT5_eUDIS"
      }
    },
    {
      "cell_type": "markdown",
      "source": [
        "Q3. What is a Pandas DataFrame ?\n",
        "\n",
        "Ans: A Pandas DataFrame is a two-dimensional,labeled data structure in Python,much like a table in a database or a spreadsheet in excel.It is one of the core data structures in the Pandas library,which is widely used for data analysis and manipulation in python.\n",
        "\n",
        "Structure of a DataFrame:\n",
        "* Rows and Columns\n",
        "* Row Labels\n",
        "* Column Labels"
      ],
      "metadata": {
        "id": "3IVXntSmWDLZ"
      }
    },
    {
      "cell_type": "markdown",
      "source": [
        "Q4. Explain the use of the groupby() method in Pandas ?\n",
        "\n",
        "Ans: The groupby() method in Pandas is used to group rows of data based on the values in one or more columns- and then apply a function(like sum,mean,count etc ..) to each group.Its very powerful for data aggregation and analysis,similar to SQL's group by clause.\n",
        "\n",
        "Syntax:\n",
        "\n",
        "       df.groupby('column_name')\n"
      ],
      "metadata": {
        "id": "FBJjwHebXQuK"
      }
    },
    {
      "cell_type": "markdown",
      "source": [
        "Q5. Why is Seaborn preferred for statistical visualizations ?\n",
        "\n",
        "Ans: Seaborn is preffered for statistical visualizations in Python because it buils on top of Matplotlib and makes it much easier to create attractive,informative,and statistically insightful plots with less code.\n",
        "\n",
        "Reasons Seaborn is preffered:\n",
        "\n",
        "* Built-in Support for statistical Plots.\n",
        "* Simpler Syntax with Smart Defaults\n",
        "* Beautiful and Consistent Style\n",
        "* Built-in Dataset Handling\n",
        "* Support for complex Visualizations\n",
        "* Automatic Handling of Aggregations and Confidence Intervals."
      ],
      "metadata": {
        "id": "Ye9CesT3Y5L4"
      }
    },
    {
      "cell_type": "markdown",
      "source": [
        "Q6.What are the differences between NumPy arrays and Python lists ?\n",
        "\n",
        "Ans: NumPy arrays:\n",
        "* It Is a Homogeneous Data type in which all the elements must be of the same type.\n",
        "* Speed is much faster a it is written in c.\n",
        "* Low Memmory usage\n",
        "* It supports powerful vectorized operations and broadcasting.\n",
        "* Numpy COmes with a vast collection of mathematical,statistical and linear algebra functions.\n",
        "\n",
        "Pyhton Lists:\n",
        "* It Is a Hetrogeneous Data type in which elements can be of the different type.\n",
        "* Speed is slower\n",
        "* High Memory usage\n",
        "* Must use loops or lists comprehension\n",
        "* Lists needs explicit iteration."
      ],
      "metadata": {
        "id": "OHo0YJhya0cV"
      }
    },
    {
      "cell_type": "markdown",
      "source": [
        "Q7.What is a heatmap, and when should it be used ?\n",
        "\n",
        "Ans:A heatmap is a data visualization technique that uses color to represent the magnitude of values in a matrix-like structure.It provides a quick and intuitive way to see patterns,correlations,or variations in data- especially in large datasets.\n",
        "\n",
        "It shouls be used for:\n",
        "* To visualize Correlations\n",
        "* To Highlight Highlow values\n",
        "* To Spot patterns or Anomalies.\n",
        "* TO display missing data\n"
      ],
      "metadata": {
        "id": "3U9um8k-c9Pb"
      }
    },
    {
      "cell_type": "markdown",
      "source": [
        "Q8. What does the term “vectorized operation” mean in NumPy ?\n",
        "\n",
        "Ans: A vectorized operation applies a function or operation simultaneously to each element in a NumPy array,leveraging underlying C-Level Optimizations."
      ],
      "metadata": {
        "id": "uSlvgf_geDnD"
      }
    },
    {
      "cell_type": "markdown",
      "source": [
        "Q9.How does Matplotlib differ from Plotly ?\n",
        "\n",
        "Ans:Both are powerful python libraries for data visualization,but they serve different purposes and have distinct features.\n",
        "\n",
        "Matplotlib:\n",
        "* It is a static visualization type\n",
        "* It is mor traditional and publication-quality\n",
        "* It rquires more configuration\n",
        "\n",
        "Plotly:\n",
        "* It is a Interactive visualization type\n",
        "* Sleek ,modern,interactive charts by default\n",
        "* Higher-level API for many plot types.\n",
        "\n"
      ],
      "metadata": {
        "id": "TChUg0Zbe2wA"
      }
    },
    {
      "cell_type": "markdown",
      "source": [
        "Q10. What is the significance of hierarchical indexing in Pandas?\n",
        "\n",
        "Ans: Hierarchical indexing in Pandas allows you to have multiple levels of indexing ona dataframe .It enables more complex,Structured data representations.\n",
        "\n",
        "The Signifance of Hierarchical Indexing:\n",
        "* Represents Higher Dimensional Data in 2D.\n",
        "* Enables Complex Grouping and Aggregation\n",
        "* Improves Data Organization\n",
        "* Efficient Subsetting and Filtering"
      ],
      "metadata": {
        "id": "hSQZA9VjgKxx"
      }
    },
    {
      "cell_type": "markdown",
      "source": [
        "Q11. What is the role of Seaborn’s pairplot() function?\n",
        "\n",
        "Ans: The role of Seaborn’s pairplot() function is:\n",
        "* It helps you to see Pairwise relationships between numerical variables.\n",
        "* Understand Correlations and distributions  quickly.\n",
        "* Detect Outliers ,clusters, and patterns\n",
        "* Compares how data is distributed across categories,"
      ],
      "metadata": {
        "id": "OFQJ2zFGh2rL"
      }
    },
    {
      "cell_type": "markdown",
      "source": [
        "Q12.What is the purpose of the describe() function in Pandas?\n",
        "\n",
        "Ans: The describe() function in Pandas is used to generate summary statistics for numerical columns in a dataframe or series.\n",
        "\n",
        "The purpose of describe() :\n",
        "\n",
        "It provides a quick overview of the central tendency,dispersion,and shape of datasets distribution-very useful for exploratory data analysis(EDA)."
      ],
      "metadata": {
        "id": "GZi9wctvi6ed"
      }
    },
    {
      "cell_type": "markdown",
      "source": [
        "Q13.Why is handling missing data important in Pandas?\n",
        "\n",
        "Ans:  handling missing data important in Pandas because incomplete or missing values can lead to inaccurate insights,errors in Computations,or failure in machine learning models.\n",
        "\n",
        "The importance to Handle Missing Data:\n",
        "* Ensures data Integrity\n",
        "* Prevents runtime errors\n",
        "* Improves Model Accuracy\n",
        "* Enables proper data cleaning\n"
      ],
      "metadata": {
        "id": "7bhEy5aHjxbm"
      }
    },
    {
      "cell_type": "markdown",
      "source": [
        "Q14. What are the benefits of using Plotly for data visualization?\n",
        "\n",
        "Ans:the benefits of using Plotly for data visualization are:\n",
        "* Interactive Visualizations\n",
        "* Web-based and Dashboard friendly\n",
        "* Wide range of chart types\n",
        "* Beautiful,Publicatopn-Ready Charts.\n",
        "* High-Level API\n",
        "* Seamless Integration with Pandas\n",
        "* Exporting and sharing\n",
        "* 3D and Geo Visualizations"
      ],
      "metadata": {
        "id": "xalgD7AblCDf"
      }
    },
    {
      "cell_type": "markdown",
      "source": [
        "Q15. How does NumPy handle multidimensional arrays?\n",
        "\n",
        "Ans:NumPy handles multidimesional arrays using its powerful ndarray (N-dimensional array ) object,which allows efficient storage,access, and manipulation of data across any number of dimensions."
      ],
      "metadata": {
        "id": "89xwmBM8mpbh"
      }
    },
    {
      "cell_type": "markdown",
      "source": [
        "Q16.What is the role of Bokeh in data visualization ?\n",
        "\n",
        "Ans: the role of Bokeh in data visualization are:\n",
        "* Interactive visualization\n",
        "*  Web-Ready Output\n",
        "*  Wide range of charts\n",
        "* Streaming and real time data\n",
        "* Dashboard building"
      ],
      "metadata": {
        "id": "Xa3_tX_enuTh"
      }
    },
    {
      "cell_type": "markdown",
      "source": [
        "Q17. Explain the difference between apply() and map() in Pandas?\n",
        "\n",
        "Ans:Both are used to transform or manipulate data,but they serve slightly different purposes and are used in different contexts.\n",
        "\n",
        "apply( ):\n",
        "* It is used with Series and DataFrames(1D Or 2D)\n",
        "* It applies to Entire rows,columns,or elements\n",
        "* It is a Row/Column-wise or element-wise type of function\n",
        "* It is a Series or DataFrames(Depends) in return Type\n",
        "\n",
        "map():\n",
        "* It is used with Series (1D)\n",
        "* It applies to Each elements\n",
        "* It is a  element-wise type of function\n",
        "* It is a Series  in return Type"
      ],
      "metadata": {
        "id": "4Ez_3cvPoS8e"
      }
    },
    {
      "cell_type": "markdown",
      "source": [
        "Q18.What are some advanced features of NumPy?\n",
        "\n",
        "Ans: Some advanced features of NumPy are:\n",
        "* Broadcasting\n",
        "* Vectorized Operations\n",
        "* Masked arrays\n",
        "* Structured Arrays\n",
        "* Memory Mapping of large Arrays\n",
        "* Broadcating tricks with np.newaxis and reshape()\n",
        "* Advanced Indexing and Boolean masking\n",
        "* Linear algebra operations\n",
        "* Fourier transforms and signal processing\n",
        "* Random number generation\n",
        "* Sorting and searching\n"
      ],
      "metadata": {
        "id": "0sb3Dv-1pxeN"
      }
    },
    {
      "cell_type": "markdown",
      "source": [
        "Q19.How does Pandas simplify time series analysis?\n",
        "\n",
        "Ans: The Key ways Pandas simplify time series analysis are:\n",
        "* DateTime Indexing\n",
        "* Resampling\n",
        "* Frequency Aliases\n",
        "* Rolling window calculations\n",
        "* Date range Generation\n",
        "* Time based filtering\n",
        "* Datetime Attributes\n",
        "* Shifting and Lagging\n",
        "* Time Zone handling"
      ],
      "metadata": {
        "id": "LDNSQd8_qz6U"
      }
    },
    {
      "cell_type": "markdown",
      "source": [
        "Q20.What is the role of a pivot table in Pandas?\n",
        "\n",
        "Ans:The role of a pivot table in Pandas are:\n",
        "* Reshape data from long to wide format\n",
        "* Group data by one or more keys\n",
        "* Aggregate values using functions\n",
        "* compare metrics acrros different categories\n",
        "\n",
        "Syntax:\n",
        "\n",
        "pd.pivot_table(data,values,index,columns,aggfunc)"
      ],
      "metadata": {
        "id": "z8lGylU-rpaB"
      }
    },
    {
      "cell_type": "markdown",
      "source": [
        "Q21.Why is NumPy’s array slicing faster than Python’s list slicing?\n",
        "\n",
        "Ans: NumPy’s array slicing faster than Python’s list slicing due to the following key reasons rooted in memory management,data structure design and low - level optimizations:\n",
        "\n",
        "* Contiguous Memory Layout.\n",
        "* Fixed Data Types\n",
        "* Slicing Returns Views,Not Copies\n",
        "* C Implementation(via C and Fortan)\n"
      ],
      "metadata": {
        "id": "6C3DtZ4as-ul"
      }
    },
    {
      "cell_type": "markdown",
      "source": [
        "Q22. What are some common use cases for Seaborn?\n",
        "\n",
        "Ans: The common use cases for Seaborn are:\n",
        "* Visualizing Distributions\n",
        "* Comparing Categories\n",
        "* Analyzing Relationships Between Variables\n",
        "* Heatmaps for Correlation or Pivoted Data\n",
        "* Pairwise Feature Annalysis\n",
        "* Time Series Plots\n",
        "* Regression Analysis\n",
        "* Categorical Count Visualizations\n",
        "* Thematic Styling\n"
      ],
      "metadata": {
        "id": "sqWPvXjCwH1p"
      }
    },
    {
      "cell_type": "markdown",
      "source": [
        "**Practical Questions **"
      ],
      "metadata": {
        "id": "mQfth3uAxOTQ"
      }
    },
    {
      "cell_type": "markdown",
      "source": [
        "Q1. How do you create a 2D NumPy array and calculate the sum of each row?\n"
      ],
      "metadata": {
        "id": "w9QhrTz9xYjH"
      }
    },
    {
      "cell_type": "code",
      "source": [
        "#How do you create a 2D NumPy array and calculate the sum of each row\n",
        "import numpy as np\n",
        "arr= np.array([[1,2,3],[6,5,9],[7,9,9]])\n",
        "rowsum=np.sum(arr,axis=1)\n",
        "print(\"original Array:\\n\",arr)\n",
        "print(\"sum of Each Row:\" ,rowsum)\n"
      ],
      "metadata": {
        "colab": {
          "base_uri": "https://localhost:8080/"
        },
        "id": "eCFJlJsAxedu",
        "outputId": "56de1188-168c-4576-8af6-fe64757431cc"
      },
      "execution_count": null,
      "outputs": [
        {
          "output_type": "stream",
          "name": "stdout",
          "text": [
            "original Array:\n",
            " [[1 2 3]\n",
            " [6 5 9]\n",
            " [7 9 9]]\n",
            "sum of Each Row: [ 6 20 25]\n"
          ]
        }
      ]
    },
    {
      "cell_type": "markdown",
      "source": [
        "Q2.Write a Pandas script to find the mean of a specific column in a DataFrame?"
      ],
      "metadata": {
        "id": "c98aVZ9kyRH7"
      }
    },
    {
      "cell_type": "code",
      "source": [
        "#Write a Pandas script to find the mean of a specific column in a DataFrame?\n",
        "import pandas as pd\n",
        "data = {'Name': ['Alice', 'Bob', 'Charlie', 'David'],\n",
        "        'Age': [25, 30, 35,40],'Salary':[15000,10000,25000,30000]}\n",
        "\n",
        "df = pd.DataFrame(data)\n",
        "mean_age = df['Age'].mean()\n",
        "print(\"Mean Age:\", mean_age)\n",
        "\n",
        "df = pd.DataFrame(data)\n",
        "mean_salary = df['Salary'].mean()\n",
        "print(\"Mean Salary:\", mean_salary)\n",
        "#"
      ],
      "metadata": {
        "colab": {
          "base_uri": "https://localhost:8080/"
        },
        "id": "Z22wJTsByWt_",
        "outputId": "7e331f42-bfca-4ae6-fd6c-b1b447804c60"
      },
      "execution_count": null,
      "outputs": [
        {
          "output_type": "stream",
          "name": "stdout",
          "text": [
            "Mean Age: 32.5\n",
            "Mean Salary: 20000.0\n"
          ]
        }
      ]
    },
    {
      "cell_type": "markdown",
      "source": [
        "Q3.Create a scatter plot using Matplotlib?\n",
        "\n"
      ],
      "metadata": {
        "id": "lZqJ4xy68fCA"
      }
    },
    {
      "cell_type": "code",
      "source": [
        "#Create a scatter plot using Matplotlib\n",
        "import matplotlib.pyplot as plt\n",
        "x=[1,2,3,4,5]\n",
        "y=[6,7,8,9,10]\n",
        "plt.scatter(x,y)\n"
      ],
      "metadata": {
        "colab": {
          "base_uri": "https://localhost:8080/",
          "height": 447
        },
        "id": "VayLPgBp8lFr",
        "outputId": "4fab45ee-80d3-47e1-877f-dec092a112f9"
      },
      "execution_count": null,
      "outputs": [
        {
          "output_type": "execute_result",
          "data": {
            "text/plain": [
              "<matplotlib.collections.PathCollection at 0x799720695250>"
            ]
          },
          "metadata": {},
          "execution_count": 15
        },
        {
          "output_type": "display_data",
          "data": {
            "text/plain": [
              "<Figure size 640x480 with 1 Axes>"
            ],
            "image/png": "[encoded data removed]"
          },
          "metadata": {}
        }
      ]
    },
    {
      "cell_type": "markdown",
      "source": [
        "Q4.How do you calculate the correlation matrix using Seaborn and visualize it with a heatmap?"
      ],
      "metadata": {
        "id": "pBpWcRPV9GOB"
      }
    },
    {
      "cell_type": "code",
      "source": [
        "#How do you calculate the correlation matrix using Seaborn and visualize it with a heatmap\n",
        "import pandas as pd\n",
        "import seaborn as sns\n",
        "import matplotlib.pyplot as plt\n",
        "data={'A':[1,2,3],'B':[4,5,6],'C':[7,8,9]}\n",
        "df=pd.DataFrame(data)\n",
        "correlation_matrix=df.corr()\n",
        "sns.heatmap(correlation_matrix,annot=True,cmap='coolwarm')\n",
        "plt.title('Correlation Matrix')\n",
        "plt.show()"
      ],
      "metadata": {
        "colab": {
          "base_uri": "https://localhost:8080/",
          "height": 452
        },
        "id": "BGElieZD9KLI",
        "outputId": "ca7aabde-e662-43fc-ad10-9be0404a1a91"
      },
      "execution_count": null,
      "outputs": [
        {
          "output_type": "display_data",
          "data": {
            "text/plain": [
              "<Figure size 640x480 with 2 Axes>"
            ],
            "image/png": "[encoded data removed]"
          },
          "metadata": {}
        }
      ]
    },
    {
      "cell_type": "markdown",
      "source": [
        "Q5.Generate a bar plot using Plotly?"
      ],
      "metadata": {
        "id": "6qARFYJw-E-T"
      }
    },
    {
      "cell_type": "code",
      "source": [
        "#Generate a bar plot using Plotly\n",
        "import plotly.graph_objects as px\n",
        "x=['A','B','C','D']\n",
        "y=[1,2,3,4]\n",
        "fig=px.Figure(data=px.Bar(x=x,y=y))\n",
        "fig.show()"
      ],
      "metadata": {
        "colab": {
          "base_uri": "https://localhost:8080/",
          "height": 542
        },
        "id": "98AA08Dq-J5X",
        "outputId": "300b53d1-ecc1-4c66-c0cd-a5827153fe4e"
      },
      "execution_count": null,
      "outputs": [
        {
          "output_type": "display_data",
          "data": {
            "text/html": [
              "<html>\n",
              "<head><meta charset=\"utf-8\" /></head>\n",
              "<body>\n",
              "    <div>            <script src=\"https://cdnjs.cloudflare.com/ajax/libs/mathjax/2.7.5/MathJax.js?config=TeX-AMS-MML_SVG\"></script><script type=\"text/javascript\">if (window.MathJax && window.MathJax.Hub && window.MathJax.Hub.Config) {window.MathJax.Hub.Config({SVG: {font: \"STIX-Web\"}});}</script>                <script type=\"text/javascript\">window.PlotlyConfig = {MathJaxConfig: 'local'};</script>\n",
              "        <script charset=\"utf-8\" src=\"https://cdn.plot.ly/plotly-2.35.2.min.js\"></script>                <div id=\"ea9919fe-d621-4884-aa79-fcd7eb596eab\" class=\"plotly-graph-div\" style=\"height:525px; width:100%;\"></div>            <script type=\"text/javascript\">                                    window.PLOTLYENV=window.PLOTLYENV || {};                                    if (document.getElementById(\"ea9919fe-d621-4884-aa79-fcd7eb596eab\")) {                    Plotly.newPlot(                        \"ea9919fe-d621-4884-aa79-fcd7eb596eab\",                        [{\"x\":[\"A\",\"B\",\"C\",\"D\"],\"y\":[1,2,3,4],\"type\":\"bar\"}],                        {\"template\":{\"data\":{\"histogram2dcontour\":[{\"type\":\"histogram2dcontour\",\"colorbar\":{\"outlinewidth\":0,\"ticks\":\"\"},\"colorscale\":[[0.0,\"#0d0887\"],[0.1111111111111111,\"#46039f\"],[0.2222222222222222,\"#7201a8\"],[0.3333333333333333,\"#9c179e\"],[0.4444444444444444,\"#bd3786\"],[0.5555555555555556,\"#d8576b\"],[0.6666666666666666,\"#ed7953\"],[0.7777777777777778,\"#fb9f3a\"],[0.8888888888888888,\"#fdca26\"],[1.0,\"#f0f921\"]]}],\"choropleth\":[{\"type\":\"choropleth\",\"colorbar\":{\"outlinewidth\":0,\"ticks\":\"\"}}],\"histogram2d\":[{\"type\":\"histogram2d\",\"colorbar\":{\"outlinewidth\":0,\"ticks\":\"\"},\"colorscale\":[[0.0,\"#0d0887\"],[0.1111111111111111,\"#46039f\"],[0.2222222222222222,\"#7201a8\"],[0.3333333333333333,\"#9c179e\"],[0.4444444444444444,\"#bd3786\"],[0.5555555555555556,\"#d8576b\"],[0.6666666666666666,\"#ed7953\"],[0.7777777777777778,\"#fb9f3a\"],[0.8888888888888888,\"#fdca26\"],[1.0,\"#f0f921\"]]}],\"heatmap\":[{\"type\":\"heatmap\",\"colorbar\":{\"outlinewidth\":0,\"ticks\":\"\"},\"colorscale\":[[0.0,\"#0d0887\"],[0.1111111111111111,\"#46039f\"],[0.2222222222222222,\"#7201a8\"],[0.3333333333333333,\"#9c179e\"],[0.4444444444444444,\"#bd3786\"],[0.5555555555555556,\"#d8576b\"],[0.6666666666666666,\"#ed7953\"],[0.7777777777777778,\"#fb9f3a\"],[0.8888888888888888,\"#fdca26\"],[1.0,\"#f0f921\"]]}],\"heatmapgl\":[{\"type\":\"heatmapgl\",\"colorbar\":{\"outlinewidth\":0,\"ticks\":\"\"},\"colorscale\":[[0.0,\"#0d0887\"],[0.1111111111111111,\"#46039f\"],[0.2222222222222222,\"#7201a8\"],[0.3333333333333333,\"#9c179e\"],[0.4444444444444444,\"#bd3786\"],[0.5555555555555556,\"#d8576b\"],[0.6666666666666666,\"#ed7953\"],[0.7777777777777778,\"#fb9f3a\"],[0.8888888888888888,\"#fdca26\"],[1.0,\"#f0f921\"]]}],\"contourcarpet\":[{\"type\":\"contourcarpet\",\"colorbar\":{\"outlinewidth\":0,\"ticks\":\"\"}}],\"contour\":[{\"type\":\"contour\",\"colorbar\":{\"outlinewidth\":0,\"ticks\":\"\"},\"colorscale\":[[0.0,\"#0d0887\"],[0.1111111111111111,\"#46039f\"],[0.2222222222222222,\"#7201a8\"],[0.3333333333333333,\"#9c179e\"],[0.4444444444444444,\"#bd3786\"],[0.5555555555555556,\"#d8576b\"],[0.6666666666666666,\"#ed7953\"],[0.7777777777777778,\"#fb9f3a\"],[0.8888888888888888,\"#fdca26\"],[1.0,\"#f0f921\"]]}],\"surface\":[{\"type\":\"surface\",\"colorbar\":{\"outlinewidth\":0,\"ticks\":\"\"},\"colorscale\":[[0.0,\"#0d0887\"],[0.1111111111111111,\"#46039f\"],[0.2222222222222222,\"#7201a8\"],[0.3333333333333333,\"#9c179e\"],[0.4444444444444444,\"#bd3786\"],[0.5555555555555556,\"#d8576b\"],[0.6666666666666666,\"#ed7953\"],[0.7777777777777778,\"#fb9f3a\"],[0.8888888888888888,\"#fdca26\"],[1.0,\"#f0f921\"]]}],\"mesh3d\":[{\"type\":\"mesh3d\",\"colorbar\":{\"outlinewidth\":0,\"ticks\":\"\"}}],\"scatter\":[{\"fillpattern\":{\"fillmode\":\"overlay\",\"size\":10,\"solidity\":0.2},\"type\":\"scatter\"}],\"parcoords\":[{\"type\":\"parcoords\",\"line\":{\"colorbar\":{\"outlinewidth\":0,\"ticks\":\"\"}}}],\"scatterpolargl\":[{\"type\":\"scatterpolargl\",\"marker\":{\"colorbar\":{\"outlinewidth\":0,\"ticks\":\"\"}}}],\"bar\":[{\"error_x\":{\"color\":\"#2a3f5f\"},\"error_y\":{\"color\":\"#2a3f5f\"},\"marker\":{\"line\":{\"color\":\"#E5ECF6\",\"width\":0.5},\"pattern\":{\"fillmode\":\"overlay\",\"size\":10,\"solidity\":0.2}},\"type\":\"bar\"}],\"scattergeo\":[{\"type\":\"scattergeo\",\"marker\":{\"colorbar\":{\"outlinewidth\":0,\"ticks\":\"\"}}}],\"scatterpolar\":[{\"type\":\"scatterpolar\",\"marker\":{\"colorbar\":{\"outlinewidth\":0,\"ticks\":\"\"}}}],\"histogram\":[{\"marker\":{\"pattern\":{\"fillmode\":\"overlay\",\"size\":10,\"solidity\":0.2}},\"type\":\"histogram\"}],\"scattergl\":[{\"type\":\"scattergl\",\"marker\":{\"colorbar\":{\"outlinewidth\":0,\"ticks\":\"\"}}}],\"scatter3d\":[{\"type\":\"scatter3d\",\"line\":{\"colorbar\":{\"outlinewidth\":0,\"ticks\":\"\"}},\"marker\":{\"colorbar\":{\"outlinewidth\":0,\"ticks\":\"\"}}}],\"scattermapbox\":[{\"type\":\"scattermapbox\",\"marker\":{\"colorbar\":{\"outlinewidth\":0,\"ticks\":\"\"}}}],\"scatterternary\":[{\"type\":\"scatterternary\",\"marker\":{\"colorbar\":{\"outlinewidth\":0,\"ticks\":\"\"}}}],\"scattercarpet\":[{\"type\":\"scattercarpet\",\"marker\":{\"colorbar\":{\"outlinewidth\":0,\"ticks\":\"\"}}}],\"carpet\":[{\"aaxis\":{\"endlinecolor\":\"#2a3f5f\",\"gridcolor\":\"white\",\"linecolor\":\"white\",\"minorgridcolor\":\"white\",\"startlinecolor\":\"#2a3f5f\"},\"baxis\":{\"endlinecolor\":\"#2a3f5f\",\"gridcolor\":\"white\",\"linecolor\":\"white\",\"minorgridcolor\":\"white\",\"startlinecolor\":\"#2a3f5f\"},\"type\":\"carpet\"}],\"table\":[{\"cells\":{\"fill\":{\"color\":\"#EBF0F8\"},\"line\":{\"color\":\"white\"}},\"header\":{\"fill\":{\"color\":\"#C8D4E3\"},\"line\":{\"color\":\"white\"}},\"type\":\"table\"}],\"barpolar\":[{\"marker\":{\"line\":{\"color\":\"#E5ECF6\",\"width\":0.5},\"pattern\":{\"fillmode\":\"overlay\",\"size\":10,\"solidity\":0.2}},\"type\":\"barpolar\"}],\"pie\":[{\"automargin\":true,\"type\":\"pie\"}]},\"layout\":{\"autotypenumbers\":\"strict\",\"colorway\":[\"#636efa\",\"#EF553B\",\"#00cc96\",\"#ab63fa\",\"#FFA15A\",\"#19d3f3\",\"#FF6692\",\"#B6E880\",\"#FF97FF\",\"#FECB52\"],\"font\":{\"color\":\"#2a3f5f\"},\"hovermode\":\"closest\",\"hoverlabel\":{\"align\":\"left\"},\"paper_bgcolor\":\"white\",\"plot_bgcolor\":\"#E5ECF6\",\"polar\":{\"bgcolor\":\"#E5ECF6\",\"angularaxis\":{\"gridcolor\":\"white\",\"linecolor\":\"white\",\"ticks\":\"\"},\"radialaxis\":{\"gridcolor\":\"white\",\"linecolor\":\"white\",\"ticks\":\"\"}},\"ternary\":{\"bgcolor\":\"#E5ECF6\",\"aaxis\":{\"gridcolor\":\"white\",\"linecolor\":\"white\",\"ticks\":\"\"},\"baxis\":{\"gridcolor\":\"white\",\"linecolor\":\"white\",\"ticks\":\"\"},\"caxis\":{\"gridcolor\":\"white\",\"linecolor\":\"white\",\"ticks\":\"\"}},\"coloraxis\":{\"colorbar\":{\"outlinewidth\":0,\"ticks\":\"\"}},\"colorscale\":{\"sequential\":[[0.0,\"#0d0887\"],[0.1111111111111111,\"#46039f\"],[0.2222222222222222,\"#7201a8\"],[0.3333333333333333,\"#9c179e\"],[0.4444444444444444,\"#bd3786\"],[0.5555555555555556,\"#d8576b\"],[0.6666666666666666,\"#ed7953\"],[0.7777777777777778,\"#fb9f3a\"],[0.8888888888888888,\"#fdca26\"],[1.0,\"#f0f921\"]],\"sequentialminus\":[[0.0,\"#0d0887\"],[0.1111111111111111,\"#46039f\"],[0.2222222222222222,\"#7201a8\"],[0.3333333333333333,\"#9c179e\"],[0.4444444444444444,\"#bd3786\"],[0.5555555555555556,\"#d8576b\"],[0.6666666666666666,\"#ed7953\"],[0.7777777777777778,\"#fb9f3a\"],[0.8888888888888888,\"#fdca26\"],[1.0,\"#f0f921\"]],\"diverging\":[[0,\"#8e0152\"],[0.1,\"#c51b7d\"],[0.2,\"#de77ae\"],[0.3,\"#f1b6da\"],[0.4,\"#fde0ef\"],[0.5,\"#f7f7f7\"],[0.6,\"#e6f5d0\"],[0.7,\"#b8e186\"],[0.8,\"#7fbc41\"],[0.9,\"#4d9221\"],[1,\"#276419\"]]},\"xaxis\":{\"gridcolor\":\"white\",\"linecolor\":\"white\",\"ticks\":\"\",\"title\":{\"standoff\":15},\"zerolinecolor\":\"white\",\"automargin\":true,\"zerolinewidth\":2},\"yaxis\":{\"gridcolor\":\"white\",\"linecolor\":\"white\",\"ticks\":\"\",\"title\":{\"standoff\":15},\"zerolinecolor\":\"white\",\"automargin\":true,\"zerolinewidth\":2},\"scene\":{\"xaxis\":{\"backgroundcolor\":\"#E5ECF6\",\"gridcolor\":\"white\",\"linecolor\":\"white\",\"showbackground\":true,\"ticks\":\"\",\"zerolinecolor\":\"white\",\"gridwidth\":2},\"yaxis\":{\"backgroundcolor\":\"#E5ECF6\",\"gridcolor\":\"white\",\"linecolor\":\"white\",\"showbackground\":true,\"ticks\":\"\",\"zerolinecolor\":\"white\",\"gridwidth\":2},\"zaxis\":{\"backgroundcolor\":\"#E5ECF6\",\"gridcolor\":\"white\",\"linecolor\":\"white\",\"showbackground\":true,\"ticks\":\"\",\"zerolinecolor\":\"white\",\"gridwidth\":2}},\"shapedefaults\":{\"line\":{\"color\":\"#2a3f5f\"}},\"annotationdefaults\":{\"arrowcolor\":\"#2a3f5f\",\"arrowhead\":0,\"arrowwidth\":1},\"geo\":{\"bgcolor\":\"white\",\"landcolor\":\"#E5ECF6\",\"subunitcolor\":\"white\",\"showland\":true,\"showlakes\":true,\"lakecolor\":\"white\"},\"title\":{\"x\":0.05},\"mapbox\":{\"style\":\"light\"}}}},                        {\"responsive\": true}                    ).then(function(){\n",
              "                            \n",
              "var gd = document.getElementById('ea9919fe-d621-4884-aa79-fcd7eb596eab');\n",
              "var x = new MutationObserver(function (mutations, observer) {{\n",
              "        var display = window.getComputedStyle(gd).display;\n",
              "        if (!display || display === 'none') {{\n",
              "            console.log([gd, 'removed!']);\n",
              "            Plotly.purge(gd);\n",
              "            observer.disconnect();\n",
              "        }}\n",
              "}});\n",
              "\n",
              "// Listen for the removal of the full notebook cells\n",
              "var notebookContainer = gd.closest('#notebook-container');\n",
              "if (notebookContainer) {{\n",
              "    x.observe(notebookContainer, {childList: true});\n",
              "}}\n",
              "\n",
              "// Listen for the clearing of the current output cell\n",
              "var outputEl = gd.closest('.output');\n",
              "if (outputEl) {{\n",
              "    x.observe(outputEl, {childList: true});\n",
              "}}\n",
              "\n",
              "                        })                };                            </script>        </div>\n",
              "</body>\n",
              "</html>"
            ]
          },
          "metadata": {}
        }
      ]
    },
    {
      "cell_type": "markdown",
      "source": [
        "Q6.Create a DataFrame and add a new column based on an existing column?"
      ],
      "metadata": {
        "id": "v7JlOM9W-iwO"
      }
    },
    {
      "cell_type": "code",
      "source": [
        "#Create a DataFrame and add a new column based on an existing column\n",
        "import pandas as pd\n",
        "data={'Name':['Alice','Bob','Charlie','David'],'Age':[25,30,35,40]}\n",
        "df=pd.DataFrame(data)\n",
        "\n",
        "def is_adult(age):\n",
        "  return age>=18\n",
        "df['is_adult']=df['Age'].apply(is_adult)\n",
        "print(df)"
      ],
      "metadata": {
        "colab": {
          "base_uri": "https://localhost:8080/"
        },
        "id": "xm_aMpcl-pVW",
        "outputId": "d7f9790a-193c-4d0c-ec4a-030c22ba1741"
      },
      "execution_count": null,
      "outputs": [
        {
          "output_type": "stream",
          "name": "stdout",
          "text": [
            "      Name  Age  is_adult\n",
            "0    Alice   25      True\n",
            "1      Bob   30      True\n",
            "2  Charlie   35      True\n",
            "3    David   40      True\n"
          ]
        }
      ]
    },
    {
      "cell_type": "markdown",
      "source": [
        "Q7.Write a program to perform element-wise multiplication of two NumPy arrays?\n"
      ],
      "metadata": {
        "id": "HL84xs1H_BbP"
      }
    },
    {
      "cell_type": "code",
      "source": [
        "#Write a program to perform element-wise multiplication of two NumPy arrays?\n",
        "import numpy as np\n",
        "arr1=np.array([1,2,3])\n",
        "arr2=np.array([4,5,6])\n",
        "result=np.multiply(arr1,arr2)\n",
        "print(\"Array 1 :\",arr1)\n",
        "print(\"Array 2 :\",arr2)\n",
        "print(\"Element-wise Multiplication Result:\",result)"
      ],
      "metadata": {
        "colab": {
          "base_uri": "https://localhost:8080/"
        },
        "id": "s_BbQyy0_H3Z",
        "outputId": "c7f80fc6-9599-4ff0-a51e-09e174c6bb29"
      },
      "execution_count": null,
      "outputs": [
        {
          "output_type": "stream",
          "name": "stdout",
          "text": [
            "Array 1 : [1 2 3]\n",
            "Array 2 : [4 5 6]\n",
            "Element-wise Multiplication Result: [ 4 10 18]\n"
          ]
        }
      ]
    },
    {
      "cell_type": "markdown",
      "source": [
        "Q8. Create a line plot with multiple lines using Matplotlib?\n"
      ],
      "metadata": {
        "id": "EJdSmRAS_ptS"
      }
    },
    {
      "cell_type": "code",
      "source": [
        "#Create a line plot with multiple lines using Matplotlib\n",
        "import matplotlib.pyplot as plt\n",
        "x1=[1,2,3,4,5]\n",
        "y1=[6,7,8,9,10]\n",
        "y2=[1,2,3,4,5]\n",
        "y3=[11,12,13,14,15]\n",
        "plt.plot(x1,y1,label='Line 1',color='Blue')\n",
        "plt.plot(x1,y2,label='Line 2',color='green')\n",
        "plt.plot(x1,y3,label='Line 3',color='red')\n",
        "plt.xlabel('X-axis')\n",
        "plt.ylabel('Y-axis')\n",
        "plt.title('Multiple Line Plot')\n",
        "plt.legend()\n",
        "plt.grid(True)\n",
        "plt.show()"
      ],
      "metadata": {
        "colab": {
          "base_uri": "https://localhost:8080/",
          "height": 472
        },
        "id": "QwMWUnLrAFzA",
        "outputId": "4e190d4e-6973-4a22-c824-046750caca83"
      },
      "execution_count": null,
      "outputs": [
        {
          "output_type": "display_data",
          "data": {
            "text/plain": [
              "<Figure size 640x480 with 1 Axes>"
            ],
            "image/png": "[encoded data removed]"
          },
          "metadata": {}
        }
      ]
    },
    {
      "cell_type": "markdown",
      "source": [
        "Q9.Generate a Pandas DataFrame and filter rows where a column value is greater than a threshold?"
      ],
      "metadata": {
        "id": "xYuSU32cBljw"
      }
    },
    {
      "cell_type": "code",
      "source": [
        "#Generate a Pandas DataFrame and filter rows where a column value is greater than a thresholdA\n",
        "import pandas as pd\n",
        "data={'Name':['Alice','Bob','Charlie','David'],'Age':[25,30,35,40]}\n",
        "df=pd.DataFrame(data)\n",
        "threshold_age=30\n",
        "filtered_df=df[df['Age']>threshold_age]\n",
        "print(\"Original DataFrame:\")\n",
        "print(df)\n",
        "print(\"\\n Filtered DataFrame (Age>30):\")\n",
        "print(filtered_df)"
      ],
      "metadata": {
        "colab": {
          "base_uri": "https://localhost:8080/"
        },
        "id": "vX-ChtQzBsmf",
        "outputId": "ffe536d3-a034-4f2d-ce3c-6e514859145c"
      },
      "execution_count": null,
      "outputs": [
        {
          "output_type": "stream",
          "name": "stdout",
          "text": [
            "Original DataFrame:\n",
            "      Name  Age\n",
            "0    Alice   25\n",
            "1      Bob   30\n",
            "2  Charlie   35\n",
            "3    David   40\n",
            "\n",
            " Filtered DataFrame (Age>30):\n",
            "      Name  Age\n",
            "2  Charlie   35\n",
            "3    David   40\n"
          ]
        }
      ]
    },
    {
      "cell_type": "markdown",
      "source": [
        "Q10.Create a histogram using Seaborn to visualize a distribution?"
      ],
      "metadata": {
        "id": "e1U33B3wCtM-"
      }
    },
    {
      "cell_type": "code",
      "source": [
        "#Create a histogram using Seaborn to visualize a distribution?\n",
        "import seaborn as sns\n",
        "import matplotlib.pyplot as plt\n",
        "import pandas as pd\n",
        "import numpy as np\n",
        "\n",
        "np.random.seed(30)\n",
        "data=np.random.normal(loc=30,scale=10,size=100)\n",
        "df=pd.DataFrame({'Score':data})\n",
        "sns.histplot(data=df,x='Score',bins=30,kde=True,color='blue')\n",
        "plt.xlabel('Score')\n",
        "plt.ylabel('Frequency')\n",
        "plt.title('Distribution of Scores')\n",
        "plt.show()"
      ],
      "metadata": {
        "colab": {
          "base_uri": "https://localhost:8080/",
          "height": 472
        },
        "id": "U9z2yKbNCxgA",
        "outputId": "7340d2c3-3f64-46d1-de1c-49725c5079ff"
      },
      "execution_count": null,
      "outputs": [
        {
          "output_type": "display_data",
          "data": {
            "text/plain": [
              "<Figure size 640x480 with 1 Axes>"
            ],
            "image/png": "[encoded data removed]"
          },
          "metadata": {}
        }
      ]
    },
    {
      "cell_type": "markdown",
      "source": [
        "Q11.Perform matrix multiplication using NumPy?"
      ],
      "metadata": {
        "id": "THsRkSkFEIlq"
      }
    },
    {
      "cell_type": "code",
      "source": [
        "#Perform matrix multiplication using NumPy\n",
        "import numpy as np\n",
        "A=np.array([[1,2],[3,4]])\n",
        "B=np.array([[5,6],[7,8]])\n",
        "result=np.dot(A,B)\n",
        "print(\"Matrix A:\")\n",
        "print(A)\n",
        "print(\"\\n Matrix B:\")\n",
        "print(B)\n",
        "print(\"\\n Matrix Multiplication Result:\")\n",
        "print(result)"
      ],
      "metadata": {
        "colab": {
          "base_uri": "https://localhost:8080/"
        },
        "id": "oIpse2V5ENy_",
        "outputId": "1046a566-9173-4b8e-8985-35dd959d4c41"
      },
      "execution_count": null,
      "outputs": [
        {
          "output_type": "stream",
          "name": "stdout",
          "text": [
            "Matrix A:\n",
            "[[1 2]\n",
            " [3 4]]\n",
            "\n",
            " Matrix B:\n",
            "[[5 6]\n",
            " [7 8]]\n",
            "\n",
            " Matrix Multiplication Result:\n",
            "[[19 22]\n",
            " [43 50]]\n"
          ]
        }
      ]
    },
    {
      "cell_type": "markdown",
      "source": [
        "Q12.Use Pandas to load a CSV file and display its first 5 rows?\n"
      ],
      "metadata": {
        "id": "lZr9ORI-Ek_Y"
      }
    },
    {
      "cell_type": "code",
      "source": [
        "#Use Pandas to load a CSV file and display its first 5 rows\n",
        "import pandas as pd\n",
        "file_path='/content/sample_data/california_housing_train.csv'\n",
        "df=pd.read_csv(file_path)\n",
        "first_5_rows=df.head(5)\n",
        "print(first_5_rows)"
      ],
      "metadata": {
        "colab": {
          "base_uri": "https://localhost:8080/"
        },
        "id": "sPm-bM3REppo",
        "outputId": "49f32d4f-587a-46b4-d040-aba13960ed6a"
      },
      "execution_count": null,
      "outputs": [
        {
          "output_type": "stream",
          "name": "stdout",
          "text": [
            "   longitude  latitude  housing_median_age  total_rooms  total_bedrooms  \\\n",
            "0    -114.31     34.19                15.0       5612.0          1283.0   \n",
            "1    -114.47     34.40                19.0       7650.0          1901.0   \n",
            "2    -114.56     33.69                17.0        720.0           174.0   \n",
            "3    -114.57     33.64                14.0       1501.0           337.0   \n",
            "4    -114.57     33.57                20.0       1454.0           326.0   \n",
            "\n",
            "   population  households  median_income  median_house_value  \n",
            "0      1015.0       472.0         1.4936             66900.0  \n",
            "1      1129.0       463.0         1.8200             80100.0  \n",
            "2       333.0       117.0         1.6509             85700.0  \n",
            "3       515.0       226.0         3.1917             73400.0  \n",
            "4       624.0       262.0         1.9250             65500.0  \n"
          ]
        }
      ]
    },
    {
      "cell_type": "markdown",
      "source": [
        "Q13.Create a 3D scatter plot using Plotly."
      ],
      "metadata": {
        "id": "IFYTfcNFE9AZ"
      }
    },
    {
      "cell_type": "code",
      "source": [
        "#Create a 3D scatter plot using Plotly.\n",
        "import plotly.express as px\n",
        "import pandas as pd\n",
        "import numpy as np\n",
        "np.random.seed(42)\n",
        "df=pd.DataFrame({'X':np.random.rand(100),'Y':np.random.rand(100),'Z':np.random.rand(100),'Label':np.random.choice(['A','B','C'],size=100)})\n",
        "fig=px.scatter_3d(df,x='X',y='Y',z='Z',color='Label',title='3D Scatter Plot Example ',size_max=10)\n",
        "fig.show()"
      ],
      "metadata": {
        "colab": {
          "base_uri": "https://localhost:8080/",
          "height": 542
        },
        "id": "X32gWgB5FAyx",
        "outputId": "84177a64-43e1-43f8-9946-bffc8d090984"
      },
      "execution_count": null,
      "outputs": [
        {
          "output_type": "display_data",
          "data": {
            "text/html": [
              "<html>\n",
              "<head><meta charset=\"utf-8\" /></head>\n",
              "<body>\n",
              "    <div>            <script src=\"https://cdnjs.cloudflare.com/ajax/libs/mathjax/2.7.5/MathJax.js?config=TeX-AMS-MML_SVG\"></script><script type=\"text/javascript\">if (window.MathJax && window.MathJax.Hub && window.MathJax.Hub.Config) {window.MathJax.Hub.Config({SVG: {font: \"STIX-Web\"}});}</script>                <script type=\"text/javascript\">window.PlotlyConfig = {MathJaxConfig: 'local'};</script>\n",
              "        <script charset=\"utf-8\" src=\"https://cdn.plot.ly/plotly-2.35.2.min.js\"></script>                <div id=\"dee45af8-8079-4824-9356-59466b4abf25\" class=\"plotly-graph-div\" style=\"height:525px; width:100%;\"></div>            <script type=\"text/javascript\">                                    window.PLOTLYENV=window.PLOTLYENV || {};                                    if (document.getElementById(\"dee45af8-8079-4824-9356-59466b4abf25\")) {                    Plotly.newPlot(                        \"dee45af8-8079-4824-9356-59466b4abf25\",                        [{\"hovertemplate\":\"Label=A\\u003cbr\\u003eX=%{x}\\u003cbr\\u003eY=%{y}\\u003cbr\\u003eZ=%{z}\\u003cextra\\u003e\\u003c\\u002fextra\\u003e\",\"legendgroup\":\"A\",\"marker\":{\"color\":\"#636efa\",\"symbol\":\"circle\"},\"mode\":\"markers\",\"name\":\"A\",\"scene\":\"scene\",\"showlegend\":true,\"x\":[0.3745401188473625,0.15599452033620265,0.020584494295802447,0.3042422429595377,0.43194501864211576,0.29214464853521815,0.3663618432936917,0.45606998421703593,0.5142344384136116,0.06505159298527952,0.9488855372533332,0.9656320330745594,0.8083973481164611,0.3046137691733707,0.4401524937396013,0.4951769101112702,0.31171107608941095,0.5467102793432796,0.18485445552552704,0.7751328233611146,0.8948273504276488,0.1959828624191452,0.388677289689482,0.8287375091519293,0.5426960831582485,0.7722447692966574,0.07404465173409036,0.3584657285442726,0.11586905952512971,0.3308980248526492,0.7296061783380641,0.6375574713552131,0.8872127425763265,0.713244787222995,0.5612771975694962,0.770967179954561,0.42754101835854963,0.02541912674409519],\"y\":[0.03142918568673425,0.24929222914887494,0.289751452913768,0.8036720768991145,0.8925589984899778,0.3180034749718639,0.11005192452767676,0.22793516254194168,0.8607305832563434,0.1198653673336828,0.33761517140362796,0.9429097039125192,0.32320293202075523,0.5187906217433661,0.9717820827209607,0.25178229582536416,0.6095643339798968,0.05147875124998935,0.27864646423661144,0.23956189066697242,0.489452760277563,0.7616196153287176,0.3677831327192532,0.6335297107608947,0.835302495589238,0.6775643618422824,0.3867353463005374,0.9367299887367345,0.13752094414599325,0.9246936182785628,0.8172222002012158,0.5552008115994623,0.5296505783560065,0.8972157579533268,0.6331014572732679,0.3390297910487007,0.8971102599525771,0.8870864242651173],\"z\":[0.6420316461542878,0.009197051616629648,0.5487337893665861,0.3253996981592677,0.6496328990472147,0.09367476782809248,0.3677158030594335,0.26520236768172545,0.3930977246667604,0.5769038846263591,0.4925176938188639,0.1952429877980445,0.7224521152615053,0.2807723624408558,0.17711067940704894,0.9539285770025874,0.42818414831731433,0.9636199770892528,0.8530094554673601,0.38509772860192526,0.31692200515627766,0.696029796674973,0.6150072266991697,0.14008401523652403,0.7407686177542044,0.8093611554785136,0.6499639307777652,0.7019668772577033,0.795792669436101,0.375582952639944,0.46559801813246016,0.5426446347075766,0.2865412521282844,0.03734818874921442,0.3601906414112629,0.12706051265188478,0.21582102749684318,0.6228904758190003],\"type\":\"scatter3d\"},{\"hovertemplate\":\"Label=B\\u003cbr\\u003eX=%{x}\\u003cbr\\u003eY=%{y}\\u003cbr\\u003eZ=%{z}\\u003cextra\\u003e\\u003c\\u002fextra\\u003e\",\"legendgroup\":\"B\",\"marker\":{\"color\":\"#EF553B\",\"symbol\":\"circle\"},\"mode\":\"markers\",\"name\":\"B\",\"scene\":\"scene\",\"showlegend\":true,\"x\":[0.9507143064099162,0.05808361216819946,0.8661761457749352,0.6011150117432088,0.21233911067827616,0.18340450985343382,0.5247564316322378,0.2912291401980419,0.7851759613930136,0.19967378215835974,0.046450412719997725,0.6075448519014384,0.17052412368729153,0.12203823484477883,0.2587799816000169,0.5200680211778108,0.9695846277645586,0.5978999788110851,0.9218742350231168,0.0884925020519195,0.045227288910538066,0.32533033076326434,0.3567533266935893,0.28093450968738076,0.8021969807540397,0.07455064367977082,0.9868869366005173,0.1987156815341724,0.8154614284548342,0.7068573438476171,0.7712703466859457,0.6232981268275579,0.3109823217156622,0.49379559636439074],\"y\":[0.6364104112637804,0.41038292303562973,0.7555511385430487,0.22879816549162246,0.808120379564417,0.8714605901877177,0.18657005888603584,0.5393422419156507,0.4271077886262563,0.8180147659224931,0.5107473025775657,0.417411003148779,0.22210781047073025,0.9624472949421112,0.2848404943774676,0.5026790232288615,0.9082658859666537,0.9856504541106007,0.2420552715115004,0.6721355474058786,0.23763754399239967,0.7282163486118596,0.5357746840747585,0.0902897700544083,0.18651851039985423,0.040775141554763916,0.5908929431882418,0.016587828927856152,0.22649577519793795,0.6451727904094499,0.690937738102466,0.11347352124058907,0.2579416277151556,0.3492095746126609],\"z\":[0.08413996499504883,0.1014715428660321,0.6635017691080558,0.005061583846218687,0.22426930946055978,0.23724908749680007,0.7464914051180241,0.8492234104941779,0.24398964337908358,0.9730105547524456,0.6311386259972629,0.7948113035416484,0.5026370931051921,0.9404585843529143,0.015456616528867428,0.9666548190436696,0.2944488920695857,0.1694927466860925,0.5568012624583502,0.936154774160781,0.570061170089365,0.09717649377076854,0.5183296523637367,0.8773730719279554,0.7024840839871093,0.35949115121975517,0.29359184426449336,0.8101133946791808,0.9132405525564713,0.5113423988609378,0.7982951789667752,0.3379951568515358,0.578280140996174,0.5222432600548044],\"type\":\"scatter3d\"},{\"hovertemplate\":\"Label=C\\u003cbr\\u003eX=%{x}\\u003cbr\\u003eY=%{y}\\u003cbr\\u003eZ=%{z}\\u003cextra\\u003e\\u003c\\u002fextra\\u003e\",\"legendgroup\":\"C\",\"marker\":{\"color\":\"#00cc96\",\"symbol\":\"circle\"},\"mode\":\"markers\",\"name\":\"C\",\"scene\":\"scene\",\"showlegend\":true,\"x\":[0.7319939418114051,0.5986584841970366,0.15601864044243652,0.7080725777960455,0.9699098521619943,0.8324426408004217,0.18182496720710062,0.6118528947223795,0.13949386065204183,0.5924145688620425,0.09767211400638387,0.6842330265121569,0.034388521115218396,0.9093204020787821,0.662522284353982,0.9394989415641891,0.2713490317738959,0.14092422497476265,0.005522117123602399,0.7290071680409873,0.8631034258755935,0.06355835028602363,0.32518332202674705,0.4722149251619493,0.1195942459383017,0.7607850486168974,0.5227328293819941,0.10789142699330445],\"y\":[0.3143559810763267,0.5085706911647028,0.907566473926093,0.07697990982879299,0.16122128725400442,0.9296976523425731,0.6334037565104235,0.8074401551640625,0.8960912999234932,0.006952130531190703,0.7030189588951778,0.363629602379294,0.49724850589238545,0.30087830981676966,0.036886947354532795,0.1448948720912231,0.6323058305935795,0.32078006497173583,0.512093058299281,0.17436642900499144,0.3410663510502585,0.877339353380981,0.659984046034179,0.24185229090045168,0.09310276780589921,0.9004180571633305,0.7259556788702394,0.7798755458576239],\"z\":[0.16162871409461377,0.8985541885270792,0.6064290596595899,0.16080805141749865,0.6918951976926933,0.6519612595026005,0.7121792213475359,0.6576128923003434,0.5683086033354716,0.8920465551771133,0.02431596643145384,0.6454722959071678,0.9148643902204485,0.3701587002554444,0.9283185625877254,0.8511366715168569,0.9900538501042633,0.697015740995268,0.8670723185801037,0.5015162946871996,0.8900053418175663,0.093981939840869,0.035942273796742086,0.5908332605690108,0.03050024993904943,0.8226005606596583,0.7699935530986108,0.085347464993768],\"type\":\"scatter3d\"}],                        {\"template\":{\"data\":{\"histogram2dcontour\":[{\"type\":\"histogram2dcontour\",\"colorbar\":{\"outlinewidth\":0,\"ticks\":\"\"},\"colorscale\":[[0.0,\"#0d0887\"],[0.1111111111111111,\"#46039f\"],[0.2222222222222222,\"#7201a8\"],[0.3333333333333333,\"#9c179e\"],[0.4444444444444444,\"#bd3786\"],[0.5555555555555556,\"#d8576b\"],[0.6666666666666666,\"#ed7953\"],[0.7777777777777778,\"#fb9f3a\"],[0.8888888888888888,\"#fdca26\"],[1.0,\"#f0f921\"]]}],\"choropleth\":[{\"type\":\"choropleth\",\"colorbar\":{\"outlinewidth\":0,\"ticks\":\"\"}}],\"histogram2d\":[{\"type\":\"histogram2d\",\"colorbar\":{\"outlinewidth\":0,\"ticks\":\"\"},\"colorscale\":[[0.0,\"#0d0887\"],[0.1111111111111111,\"#46039f\"],[0.2222222222222222,\"#7201a8\"],[0.3333333333333333,\"#9c179e\"],[0.4444444444444444,\"#bd3786\"],[0.5555555555555556,\"#d8576b\"],[0.6666666666666666,\"#ed7953\"],[0.7777777777777778,\"#fb9f3a\"],[0.8888888888888888,\"#fdca26\"],[1.0,\"#f0f921\"]]}],\"heatmap\":[{\"type\":\"heatmap\",\"colorbar\":{\"outlinewidth\":0,\"ticks\":\"\"},\"colorscale\":[[0.0,\"#0d0887\"],[0.1111111111111111,\"#46039f\"],[0.2222222222222222,\"#7201a8\"],[0.3333333333333333,\"#9c179e\"],[0.4444444444444444,\"#bd3786\"],[0.5555555555555556,\"#d8576b\"],[0.6666666666666666,\"#ed7953\"],[0.7777777777777778,\"#fb9f3a\"],[0.8888888888888888,\"#fdca26\"],[1.0,\"#f0f921\"]]}],\"heatmapgl\":[{\"type\":\"heatmapgl\",\"colorbar\":{\"outlinewidth\":0,\"ticks\":\"\"},\"colorscale\":[[0.0,\"#0d0887\"],[0.1111111111111111,\"#46039f\"],[0.2222222222222222,\"#7201a8\"],[0.3333333333333333,\"#9c179e\"],[0.4444444444444444,\"#bd3786\"],[0.5555555555555556,\"#d8576b\"],[0.6666666666666666,\"#ed7953\"],[0.7777777777777778,\"#fb9f3a\"],[0.8888888888888888,\"#fdca26\"],[1.0,\"#f0f921\"]]}],\"contourcarpet\":[{\"type\":\"contourcarpet\",\"colorbar\":{\"outlinewidth\":0,\"ticks\":\"\"}}],\"contour\":[{\"type\":\"contour\",\"colorbar\":{\"outlinewidth\":0,\"ticks\":\"\"},\"colorscale\":[[0.0,\"#0d0887\"],[0.1111111111111111,\"#46039f\"],[0.2222222222222222,\"#7201a8\"],[0.3333333333333333,\"#9c179e\"],[0.4444444444444444,\"#bd3786\"],[0.5555555555555556,\"#d8576b\"],[0.6666666666666666,\"#ed7953\"],[0.7777777777777778,\"#fb9f3a\"],[0.8888888888888888,\"#fdca26\"],[1.0,\"#f0f921\"]]}],\"surface\":[{\"type\":\"surface\",\"colorbar\":{\"outlinewidth\":0,\"ticks\":\"\"},\"colorscale\":[[0.0,\"#0d0887\"],[0.1111111111111111,\"#46039f\"],[0.2222222222222222,\"#7201a8\"],[0.3333333333333333,\"#9c179e\"],[0.4444444444444444,\"#bd3786\"],[0.5555555555555556,\"#d8576b\"],[0.6666666666666666,\"#ed7953\"],[0.7777777777777778,\"#fb9f3a\"],[0.8888888888888888,\"#fdca26\"],[1.0,\"#f0f921\"]]}],\"mesh3d\":[{\"type\":\"mesh3d\",\"colorbar\":{\"outlinewidth\":0,\"ticks\":\"\"}}],\"scatter\":[{\"fillpattern\":{\"fillmode\":\"overlay\",\"size\":10,\"solidity\":0.2},\"type\":\"scatter\"}],\"parcoords\":[{\"type\":\"parcoords\",\"line\":{\"colorbar\":{\"outlinewidth\":0,\"ticks\":\"\"}}}],\"scatterpolargl\":[{\"type\":\"scatterpolargl\",\"marker\":{\"colorbar\":{\"outlinewidth\":0,\"ticks\":\"\"}}}],\"bar\":[{\"error_x\":{\"color\":\"#2a3f5f\"},\"error_y\":{\"color\":\"#2a3f5f\"},\"marker\":{\"line\":{\"color\":\"#E5ECF6\",\"width\":0.5},\"pattern\":{\"fillmode\":\"overlay\",\"size\":10,\"solidity\":0.2}},\"type\":\"bar\"}],\"scattergeo\":[{\"type\":\"scattergeo\",\"marker\":{\"colorbar\":{\"outlinewidth\":0,\"ticks\":\"\"}}}],\"scatterpolar\":[{\"type\":\"scatterpolar\",\"marker\":{\"colorbar\":{\"outlinewidth\":0,\"ticks\":\"\"}}}],\"histogram\":[{\"marker\":{\"pattern\":{\"fillmode\":\"overlay\",\"size\":10,\"solidity\":0.2}},\"type\":\"histogram\"}],\"scattergl\":[{\"type\":\"scattergl\",\"marker\":{\"colorbar\":{\"outlinewidth\":0,\"ticks\":\"\"}}}],\"scatter3d\":[{\"type\":\"scatter3d\",\"line\":{\"colorbar\":{\"outlinewidth\":0,\"ticks\":\"\"}},\"marker\":{\"colorbar\":{\"outlinewidth\":0,\"ticks\":\"\"}}}],\"scattermapbox\":[{\"type\":\"scattermapbox\",\"marker\":{\"colorbar\":{\"outlinewidth\":0,\"ticks\":\"\"}}}],\"scatterternary\":[{\"type\":\"scatterternary\",\"marker\":{\"colorbar\":{\"outlinewidth\":0,\"ticks\":\"\"}}}],\"scattercarpet\":[{\"type\":\"scattercarpet\",\"marker\":{\"colorbar\":{\"outlinewidth\":0,\"ticks\":\"\"}}}],\"carpet\":[{\"aaxis\":{\"endlinecolor\":\"#2a3f5f\",\"gridcolor\":\"white\",\"linecolor\":\"white\",\"minorgridcolor\":\"white\",\"startlinecolor\":\"#2a3f5f\"},\"baxis\":{\"endlinecolor\":\"#2a3f5f\",\"gridcolor\":\"white\",\"linecolor\":\"white\",\"minorgridcolor\":\"white\",\"startlinecolor\":\"#2a3f5f\"},\"type\":\"carpet\"}],\"table\":[{\"cells\":{\"fill\":{\"color\":\"#EBF0F8\"},\"line\":{\"color\":\"white\"}},\"header\":{\"fill\":{\"color\":\"#C8D4E3\"},\"line\":{\"color\":\"white\"}},\"type\":\"table\"}],\"barpolar\":[{\"marker\":{\"line\":{\"color\":\"#E5ECF6\",\"width\":0.5},\"pattern\":{\"fillmode\":\"overlay\",\"size\":10,\"solidity\":0.2}},\"type\":\"barpolar\"}],\"pie\":[{\"automargin\":true,\"type\":\"pie\"}]},\"layout\":{\"autotypenumbers\":\"strict\",\"colorway\":[\"#636efa\",\"#EF553B\",\"#00cc96\",\"#ab63fa\",\"#FFA15A\",\"#19d3f3\",\"#FF6692\",\"#B6E880\",\"#FF97FF\",\"#FECB52\"],\"font\":{\"color\":\"#2a3f5f\"},\"hovermode\":\"closest\",\"hoverlabel\":{\"align\":\"left\"},\"paper_bgcolor\":\"white\",\"plot_bgcolor\":\"#E5ECF6\",\"polar\":{\"bgcolor\":\"#E5ECF6\",\"angularaxis\":{\"gridcolor\":\"white\",\"linecolor\":\"white\",\"ticks\":\"\"},\"radialaxis\":{\"gridcolor\":\"white\",\"linecolor\":\"white\",\"ticks\":\"\"}},\"ternary\":{\"bgcolor\":\"#E5ECF6\",\"aaxis\":{\"gridcolor\":\"white\",\"linecolor\":\"white\",\"ticks\":\"\"},\"baxis\":{\"gridcolor\":\"white\",\"linecolor\":\"white\",\"ticks\":\"\"},\"caxis\":{\"gridcolor\":\"white\",\"linecolor\":\"white\",\"ticks\":\"\"}},\"coloraxis\":{\"colorbar\":{\"outlinewidth\":0,\"ticks\":\"\"}},\"colorscale\":{\"sequential\":[[0.0,\"#0d0887\"],[0.1111111111111111,\"#46039f\"],[0.2222222222222222,\"#7201a8\"],[0.3333333333333333,\"#9c179e\"],[0.4444444444444444,\"#bd3786\"],[0.5555555555555556,\"#d8576b\"],[0.6666666666666666,\"#ed7953\"],[0.7777777777777778,\"#fb9f3a\"],[0.8888888888888888,\"#fdca26\"],[1.0,\"#f0f921\"]],\"sequentialminus\":[[0.0,\"#0d0887\"],[0.1111111111111111,\"#46039f\"],[0.2222222222222222,\"#7201a8\"],[0.3333333333333333,\"#9c179e\"],[0.4444444444444444,\"#bd3786\"],[0.5555555555555556,\"#d8576b\"],[0.6666666666666666,\"#ed7953\"],[0.7777777777777778,\"#fb9f3a\"],[0.8888888888888888,\"#fdca26\"],[1.0,\"#f0f921\"]],\"diverging\":[[0,\"#8e0152\"],[0.1,\"#c51b7d\"],[0.2,\"#de77ae\"],[0.3,\"#f1b6da\"],[0.4,\"#fde0ef\"],[0.5,\"#f7f7f7\"],[0.6,\"#e6f5d0\"],[0.7,\"#b8e186\"],[0.8,\"#7fbc41\"],[0.9,\"#4d9221\"],[1,\"#276419\"]]},\"xaxis\":{\"gridcolor\":\"white\",\"linecolor\":\"white\",\"ticks\":\"\",\"title\":{\"standoff\":15},\"zerolinecolor\":\"white\",\"automargin\":true,\"zerolinewidth\":2},\"yaxis\":{\"gridcolor\":\"white\",\"linecolor\":\"white\",\"ticks\":\"\",\"title\":{\"standoff\":15},\"zerolinecolor\":\"white\",\"automargin\":true,\"zerolinewidth\":2},\"scene\":{\"xaxis\":{\"backgroundcolor\":\"#E5ECF6\",\"gridcolor\":\"white\",\"linecolor\":\"white\",\"showbackground\":true,\"ticks\":\"\",\"zerolinecolor\":\"white\",\"gridwidth\":2},\"yaxis\":{\"backgroundcolor\":\"#E5ECF6\",\"gridcolor\":\"white\",\"linecolor\":\"white\",\"showbackground\":true,\"ticks\":\"\",\"zerolinecolor\":\"white\",\"gridwidth\":2},\"zaxis\":{\"backgroundcolor\":\"#E5ECF6\",\"gridcolor\":\"white\",\"linecolor\":\"white\",\"showbackground\":true,\"ticks\":\"\",\"zerolinecolor\":\"white\",\"gridwidth\":2}},\"shapedefaults\":{\"line\":{\"color\":\"#2a3f5f\"}},\"annotationdefaults\":{\"arrowcolor\":\"#2a3f5f\",\"arrowhead\":0,\"arrowwidth\":1},\"geo\":{\"bgcolor\":\"white\",\"landcolor\":\"#E5ECF6\",\"subunitcolor\":\"white\",\"showland\":true,\"showlakes\":true,\"lakecolor\":\"white\"},\"title\":{\"x\":0.05},\"mapbox\":{\"style\":\"light\"}}},\"scene\":{\"domain\":{\"x\":[0.0,1.0],\"y\":[0.0,1.0]},\"xaxis\":{\"title\":{\"text\":\"X\"}},\"yaxis\":{\"title\":{\"text\":\"Y\"}},\"zaxis\":{\"title\":{\"text\":\"Z\"}}},\"legend\":{\"title\":{\"text\":\"Label\"},\"tracegroupgap\":0},\"title\":{\"text\":\"3D Scatter Plot Example \"}},                        {\"responsive\": true}                    ).then(function(){\n",
              "                            \n",
              "var gd = document.getElementById('dee45af8-8079-4824-9356-59466b4abf25');\n",
              "var x = new MutationObserver(function (mutations, observer) {{\n",
              "        var display = window.getComputedStyle(gd).display;\n",
              "        if (!display || display === 'none') {{\n",
              "            console.log([gd, 'removed!']);\n",
              "            Plotly.purge(gd);\n",
              "            observer.disconnect();\n",
              "        }}\n",
              "}});\n",
              "\n",
              "// Listen for the removal of the full notebook cells\n",
              "var notebookContainer = gd.closest('#notebook-container');\n",
              "if (notebookContainer) {{\n",
              "    x.observe(notebookContainer, {childList: true});\n",
              "}}\n",
              "\n",
              "// Listen for the clearing of the current output cell\n",
              "var outputEl = gd.closest('.output');\n",
              "if (outputEl) {{\n",
              "    x.observe(outputEl, {childList: true});\n",
              "}}\n",
              "\n",
              "                        })                };                            </script>        </div>\n",
              "</body>\n",
              "</html>"
            ]
          },
          "metadata": {}
        }
      ]
    }
  ]
}